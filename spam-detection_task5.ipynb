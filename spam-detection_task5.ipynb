{
 "cells": [
  {
   "cell_type": "markdown",
   "id": "c617611c",
   "metadata": {
    "_cell_guid": "b1076dfc-b9ad-4769-8c92-a6c4dae69d19",
    "_uuid": "8f2839f25d086af736a60e9eeb907d3b93b6e0e5",
    "papermill": {
     "duration": 0.009535,
     "end_time": "2023-03-28T05:18:09.397430",
     "exception": false,
     "start_time": "2023-03-28T05:18:09.387895",
     "status": "completed"
    },
    "tags": []
   },
   "source": [
    "# Import dependencies"
   ]
  },
  {
   "cell_type": "code",
   "execution_count": 1,
   "id": "f34c339f",
   "metadata": {
    "execution": {
     "iopub.execute_input": "2023-03-28T05:18:09.414649Z",
     "iopub.status.busy": "2023-03-28T05:18:09.413997Z",
     "iopub.status.idle": "2023-03-28T05:18:18.123663Z",
     "shell.execute_reply": "2023-03-28T05:18:18.122737Z"
    },
    "papermill": {
     "duration": 8.721417,
     "end_time": "2023-03-28T05:18:18.126504",
     "exception": false,
     "start_time": "2023-03-28T05:18:09.405087",
     "status": "completed"
    },
    "tags": []
   },
   "outputs": [],
   "source": [
    "import numpy as np\n",
    "import pandas as pd\n",
    "import matplotlib.pyplot as plt\n",
    "import tensorflow as tf\n",
    "\n",
    "# For spliting dataset\n",
    "from sklearn.model_selection import train_test_split\n",
    "\n",
    "# For preprocessing data\n",
    "import re\n",
    "import nltk\n",
    "import string\n",
    "from tensorflow.keras.preprocessing.text import Tokenizer\n",
    "from tensorflow.keras.preprocessing.sequence import pad_sequences\n",
    "\n",
    "# For building the model\n",
    "from tensorflow.keras.callbacks import EarlyStopping\n",
    "from tensorflow.keras.models import Sequential\n",
    "from tensorflow.keras.layers import (\n",
    "    Dense, Embedding, Dropout,\n",
    "    GlobalAveragePooling1D, Input\n",
    ")\n",
    "from tensorflow.keras.models import Model"
   ]
  },
  {
   "cell_type": "code",
   "execution_count": 2,
   "id": "eee71eaa",
   "metadata": {
    "execution": {
     "iopub.execute_input": "2023-03-28T05:18:18.144098Z",
     "iopub.status.busy": "2023-03-28T05:18:18.143422Z",
     "iopub.status.idle": "2023-03-28T05:18:18.148634Z",
     "shell.execute_reply": "2023-03-28T05:18:18.147835Z"
    },
    "papermill": {
     "duration": 0.015826,
     "end_time": "2023-03-28T05:18:18.150271",
     "exception": false,
     "start_time": "2023-03-28T05:18:18.134445",
     "status": "completed"
    },
    "tags": []
   },
   "outputs": [],
   "source": [
    "SEED = 42\n",
    "tf.random.set_seed(SEED)\n",
    "np.random.seed(SEED)"
   ]
  },
  {
   "cell_type": "markdown",
   "id": "337462a5",
   "metadata": {
    "papermill": {
     "duration": 0.007239,
     "end_time": "2023-03-28T05:18:18.165262",
     "exception": false,
     "start_time": "2023-03-28T05:18:18.158023",
     "status": "completed"
    },
    "tags": []
   },
   "source": [
    "# Data preprocessing"
   ]
  },
  {
   "cell_type": "markdown",
   "id": "b50b7d5d",
   "metadata": {
    "papermill": {
     "duration": 0.007173,
     "end_time": "2023-03-28T05:18:18.179920",
     "exception": false,
     "start_time": "2023-03-28T05:18:18.172747",
     "status": "completed"
    },
    "tags": []
   },
   "source": [
    "## File path"
   ]
  },
  {
   "cell_type": "code",
   "execution_count": 3,
   "id": "13abd7d8",
   "metadata": {
    "execution": {
     "iopub.execute_input": "2023-03-28T05:18:18.197920Z",
     "iopub.status.busy": "2023-03-28T05:18:18.196641Z",
     "iopub.status.idle": "2023-03-28T05:18:18.203169Z",
     "shell.execute_reply": "2023-03-28T05:18:18.201624Z"
    },
    "papermill": {
     "duration": 0.01774,
     "end_time": "2023-03-28T05:18:18.205274",
     "exception": false,
     "start_time": "2023-03-28T05:18:18.187534",
     "status": "completed"
    },
    "tags": []
   },
   "outputs": [],
   "source": [
    "data_path = \"/kaggle/input/sms-spam-collection-dataset/spam.csv\""
   ]
  },
  {
   "cell_type": "markdown",
   "id": "af51b1f3",
   "metadata": {
    "papermill": {
     "duration": 0.007452,
     "end_time": "2023-03-28T05:18:18.220570",
     "exception": false,
     "start_time": "2023-03-28T05:18:18.213118",
     "status": "completed"
    },
    "tags": []
   },
   "source": [
    "## Read data from csv file"
   ]
  },
  {
   "cell_type": "code",
   "execution_count": 4,
   "id": "28fd3a2f",
   "metadata": {
    "execution": {
     "iopub.execute_input": "2023-03-28T05:18:18.240724Z",
     "iopub.status.busy": "2023-03-28T05:18:18.239775Z",
     "iopub.status.idle": "2023-03-28T05:18:18.300129Z",
     "shell.execute_reply": "2023-03-28T05:18:18.299101Z"
    },
    "papermill": {
     "duration": 0.072451,
     "end_time": "2023-03-28T05:18:18.302479",
     "exception": false,
     "start_time": "2023-03-28T05:18:18.230028",
     "status": "completed"
    },
    "tags": []
   },
   "outputs": [
    {
     "data": {
      "text/html": [
       "<div>\n",
       "<style scoped>\n",
       "    .dataframe tbody tr th:only-of-type {\n",
       "        vertical-align: middle;\n",
       "    }\n",
       "\n",
       "    .dataframe tbody tr th {\n",
       "        vertical-align: top;\n",
       "    }\n",
       "\n",
       "    .dataframe thead th {\n",
       "        text-align: right;\n",
       "    }\n",
       "</style>\n",
       "<table border=\"1\" class=\"dataframe\">\n",
       "  <thead>\n",
       "    <tr style=\"text-align: right;\">\n",
       "      <th></th>\n",
       "      <th>Category</th>\n",
       "      <th>Content</th>\n",
       "    </tr>\n",
       "  </thead>\n",
       "  <tbody>\n",
       "    <tr>\n",
       "      <th>0</th>\n",
       "      <td>ham</td>\n",
       "      <td>Go until jurong point, crazy.. Available only ...</td>\n",
       "    </tr>\n",
       "    <tr>\n",
       "      <th>1</th>\n",
       "      <td>ham</td>\n",
       "      <td>Ok lar... Joking wif u oni...</td>\n",
       "    </tr>\n",
       "    <tr>\n",
       "      <th>2</th>\n",
       "      <td>spam</td>\n",
       "      <td>Free entry in 2 a wkly comp to win FA Cup fina...</td>\n",
       "    </tr>\n",
       "    <tr>\n",
       "      <th>3</th>\n",
       "      <td>ham</td>\n",
       "      <td>U dun say so early hor... U c already then say...</td>\n",
       "    </tr>\n",
       "    <tr>\n",
       "      <th>4</th>\n",
       "      <td>ham</td>\n",
       "      <td>Nah I don't think he goes to usf, he lives aro...</td>\n",
       "    </tr>\n",
       "  </tbody>\n",
       "</table>\n",
       "</div>"
      ],
      "text/plain": [
       "  Category                                            Content\n",
       "0      ham  Go until jurong point, crazy.. Available only ...\n",
       "1      ham                      Ok lar... Joking wif u oni...\n",
       "2     spam  Free entry in 2 a wkly comp to win FA Cup fina...\n",
       "3      ham  U dun say so early hor... U c already then say...\n",
       "4      ham  Nah I don't think he goes to usf, he lives aro..."
      ]
     },
     "execution_count": 4,
     "metadata": {},
     "output_type": "execute_result"
    }
   ],
   "source": [
    "df = pd.read_csv(data_path, encoding='ISO-8859-1')\n",
    "df = df[['v1', 'v2']]\n",
    "df.columns = ['Category', 'Content']\n",
    "df.head()"
   ]
  },
  {
   "cell_type": "markdown",
   "id": "026dc20e",
   "metadata": {
    "papermill": {
     "duration": 0.007611,
     "end_time": "2023-03-28T05:18:18.318187",
     "exception": false,
     "start_time": "2023-03-28T05:18:18.310576",
     "status": "completed"
    },
    "tags": []
   },
   "source": [
    "## Understanding the distribution of ham and spam messages"
   ]
  },
  {
   "cell_type": "code",
   "execution_count": 5,
   "id": "43838cf1",
   "metadata": {
    "execution": {
     "iopub.execute_input": "2023-03-28T05:18:18.335261Z",
     "iopub.status.busy": "2023-03-28T05:18:18.334935Z",
     "iopub.status.idle": "2023-03-28T05:18:18.542061Z",
     "shell.execute_reply": "2023-03-28T05:18:18.541391Z"
    },
    "papermill": {
     "duration": 0.217922,
     "end_time": "2023-03-28T05:18:18.543923",
     "exception": false,
     "start_time": "2023-03-28T05:18:18.326001",
     "status": "completed"
    },
    "tags": []
   },
   "outputs": [
    {
     "data": {
      "text/plain": [
       "<AxesSubplot:>"
      ]
     },
     "execution_count": 5,
     "metadata": {},
     "output_type": "execute_result"
    },
    {
     "data": {
      "image/png": "[encoded data removed]",
      "text/plain": [
       "<Figure size 800x600 with 1 Axes>"
      ]
     },
     "metadata": {},
     "output_type": "display_data"
    }
   ],
   "source": [
    "plt.figure(figsize=(8, 6))\n",
    "df.Category.value_counts().plot(kind='bar', color='green')"
   ]
  },
  {
   "cell_type": "markdown",
   "id": "30d7ee51",
   "metadata": {
    "papermill": {
     "duration": 0.007856,
     "end_time": "2023-03-28T05:18:18.560141",
     "exception": false,
     "start_time": "2023-03-28T05:18:18.552285",
     "status": "completed"
    },
    "tags": []
   },
   "source": [
    "## Text cleaner Fnction"
   ]
  },
  {
   "cell_type": "code",
   "execution_count": 6,
   "id": "54471542",
   "metadata": {
    "execution": {
     "iopub.execute_input": "2023-03-28T05:18:18.578004Z",
     "iopub.status.busy": "2023-03-28T05:18:18.577672Z",
     "iopub.status.idle": "2023-03-28T05:18:18.587770Z",
     "shell.execute_reply": "2023-03-28T05:18:18.586849Z"
    },
    "papermill": {
     "duration": 0.021495,
     "end_time": "2023-03-28T05:18:18.589858",
     "exception": false,
     "start_time": "2023-03-28T05:18:18.568363",
     "status": "completed"
    },
    "tags": []
   },
   "outputs": [],
   "source": [
    "stopwords = nltk.corpus.stopwords.words('english')\n",
    "ps = nltk.PorterStemmer()"
   ]
  },
  {
   "cell_type": "code",
   "execution_count": 7,
   "id": "b3274ef6",
   "metadata": {
    "execution": {
     "iopub.execute_input": "2023-03-28T05:18:18.608418Z",
     "iopub.status.busy": "2023-03-28T05:18:18.607769Z",
     "iopub.status.idle": "2023-03-28T05:18:18.613283Z",
     "shell.execute_reply": "2023-03-28T05:18:18.612577Z"
    },
    "papermill": {
     "duration": 0.017802,
     "end_time": "2023-03-28T05:18:18.616070",
     "exception": false,
     "start_time": "2023-03-28T05:18:18.598268",
     "status": "completed"
    },
    "tags": []
   },
   "outputs": [],
   "source": [
    "def clean_text(text):\n",
    "    # Remove punctuation from text\n",
    "    text = \"\".join([word.lower() for word in text if word not in string.punctuation])\n",
    "    tokens = re.split('\\W+', text)\n",
    "    # Get Origin of words (books -> book)\n",
    "    text = \" \".join([ps.stem(word) for word in tokens if word not in stopwords])\n",
    "    return text"
   ]
  },
  {
   "cell_type": "markdown",
   "id": "43d09590",
   "metadata": {
    "papermill": {
     "duration": 0.007663,
     "end_time": "2023-03-28T05:18:18.632221",
     "exception": false,
     "start_time": "2023-03-28T05:18:18.624558",
     "status": "completed"
    },
    "tags": []
   },
   "source": [
    "## Clean the text"
   ]
  },
  {
   "cell_type": "code",
   "execution_count": 8,
   "id": "4777fcb9",
   "metadata": {
    "execution": {
     "iopub.execute_input": "2023-03-28T05:18:18.651695Z",
     "iopub.status.busy": "2023-03-28T05:18:18.650897Z",
     "iopub.status.idle": "2023-03-28T05:18:20.090129Z",
     "shell.execute_reply": "2023-03-28T05:18:20.089191Z"
    },
    "papermill": {
     "duration": 1.451494,
     "end_time": "2023-03-28T05:18:20.092581",
     "exception": false,
     "start_time": "2023-03-28T05:18:18.641087",
     "status": "completed"
    },
    "tags": []
   },
   "outputs": [
    {
     "data": {
      "text/html": [
       "<div>\n",
       "<style scoped>\n",
       "    .dataframe tbody tr th:only-of-type {\n",
       "        vertical-align: middle;\n",
       "    }\n",
       "\n",
       "    .dataframe tbody tr th {\n",
       "        vertical-align: top;\n",
       "    }\n",
       "\n",
       "    .dataframe thead th {\n",
       "        text-align: right;\n",
       "    }\n",
       "</style>\n",
       "<table border=\"1\" class=\"dataframe\">\n",
       "  <thead>\n",
       "    <tr style=\"text-align: right;\">\n",
       "      <th></th>\n",
       "      <th>Category</th>\n",
       "      <th>Content</th>\n",
       "      <th>Clean_text</th>\n",
       "    </tr>\n",
       "  </thead>\n",
       "  <tbody>\n",
       "    <tr>\n",
       "      <th>0</th>\n",
       "      <td>ham</td>\n",
       "      <td>Go until jurong point, crazy.. Available only ...</td>\n",
       "      <td>go jurong point crazi avail bugi n great world...</td>\n",
       "    </tr>\n",
       "    <tr>\n",
       "      <th>1</th>\n",
       "      <td>ham</td>\n",
       "      <td>Ok lar... Joking wif u oni...</td>\n",
       "      <td>ok lar joke wif u oni</td>\n",
       "    </tr>\n",
       "    <tr>\n",
       "      <th>2</th>\n",
       "      <td>spam</td>\n",
       "      <td>Free entry in 2 a wkly comp to win FA Cup fina...</td>\n",
       "      <td>free entri 2 wkli comp win fa cup final tkt 21...</td>\n",
       "    </tr>\n",
       "    <tr>\n",
       "      <th>3</th>\n",
       "      <td>ham</td>\n",
       "      <td>U dun say so early hor... U c already then say...</td>\n",
       "      <td>u dun say earli hor u c alreadi say</td>\n",
       "    </tr>\n",
       "    <tr>\n",
       "      <th>4</th>\n",
       "      <td>ham</td>\n",
       "      <td>Nah I don't think he goes to usf, he lives aro...</td>\n",
       "      <td>nah dont think goe usf live around though</td>\n",
       "    </tr>\n",
       "  </tbody>\n",
       "</table>\n",
       "</div>"
      ],
      "text/plain": [
       "  Category                                            Content  \\\n",
       "0      ham  Go until jurong point, crazy.. Available only ...   \n",
       "1      ham                      Ok lar... Joking wif u oni...   \n",
       "2     spam  Free entry in 2 a wkly comp to win FA Cup fina...   \n",
       "3      ham  U dun say so early hor... U c already then say...   \n",
       "4      ham  Nah I don't think he goes to usf, he lives aro...   \n",
       "\n",
       "                                          Clean_text  \n",
       "0  go jurong point crazi avail bugi n great world...  \n",
       "1                              ok lar joke wif u oni  \n",
       "2  free entri 2 wkli comp win fa cup final tkt 21...  \n",
       "3                u dun say earli hor u c alreadi say  \n",
       "4          nah dont think goe usf live around though  "
      ]
     },
     "execution_count": 8,
     "metadata": {},
     "output_type": "execute_result"
    }
   ],
   "source": [
    "df['Clean_text'] = df['Content'].apply(lambda x: clean_text(x))\n",
    "df.head()"
   ]
  },
  {
   "cell_type": "markdown",
   "id": "8fad7ab2",
   "metadata": {
    "papermill": {
     "duration": 0.007788,
     "end_time": "2023-03-28T05:18:20.108854",
     "exception": false,
     "start_time": "2023-03-28T05:18:20.101066",
     "status": "completed"
    },
    "tags": []
   },
   "source": [
    "## Category column string to int8"
   ]
  },
  {
   "cell_type": "code",
   "execution_count": 9,
   "id": "1e71109e",
   "metadata": {
    "execution": {
     "iopub.execute_input": "2023-03-28T05:18:20.126810Z",
     "iopub.status.busy": "2023-03-28T05:18:20.126428Z",
     "iopub.status.idle": "2023-03-28T05:18:20.138572Z",
     "shell.execute_reply": "2023-03-28T05:18:20.137856Z"
    },
    "papermill": {
     "duration": 0.023666,
     "end_time": "2023-03-28T05:18:20.140634",
     "exception": false,
     "start_time": "2023-03-28T05:18:20.116968",
     "status": "completed"
    },
    "tags": []
   },
   "outputs": [
    {
     "data": {
      "text/html": [
       "<div>\n",
       "<style scoped>\n",
       "    .dataframe tbody tr th:only-of-type {\n",
       "        vertical-align: middle;\n",
       "    }\n",
       "\n",
       "    .dataframe tbody tr th {\n",
       "        vertical-align: top;\n",
       "    }\n",
       "\n",
       "    .dataframe thead th {\n",
       "        text-align: right;\n",
       "    }\n",
       "</style>\n",
       "<table border=\"1\" class=\"dataframe\">\n",
       "  <thead>\n",
       "    <tr style=\"text-align: right;\">\n",
       "      <th></th>\n",
       "      <th>Category</th>\n",
       "      <th>Content</th>\n",
       "      <th>Clean_text</th>\n",
       "      <th>label</th>\n",
       "    </tr>\n",
       "  </thead>\n",
       "  <tbody>\n",
       "    <tr>\n",
       "      <th>0</th>\n",
       "      <td>ham</td>\n",
       "      <td>Go until jurong point, crazy.. Available only ...</td>\n",
       "      <td>go jurong point crazi avail bugi n great world...</td>\n",
       "      <td>0</td>\n",
       "    </tr>\n",
       "    <tr>\n",
       "      <th>1</th>\n",
       "      <td>ham</td>\n",
       "      <td>Ok lar... Joking wif u oni...</td>\n",
       "      <td>ok lar joke wif u oni</td>\n",
       "      <td>0</td>\n",
       "    </tr>\n",
       "    <tr>\n",
       "      <th>2</th>\n",
       "      <td>spam</td>\n",
       "      <td>Free entry in 2 a wkly comp to win FA Cup fina...</td>\n",
       "      <td>free entri 2 wkli comp win fa cup final tkt 21...</td>\n",
       "      <td>1</td>\n",
       "    </tr>\n",
       "    <tr>\n",
       "      <th>3</th>\n",
       "      <td>ham</td>\n",
       "      <td>U dun say so early hor... U c already then say...</td>\n",
       "      <td>u dun say earli hor u c alreadi say</td>\n",
       "      <td>0</td>\n",
       "    </tr>\n",
       "    <tr>\n",
       "      <th>4</th>\n",
       "      <td>ham</td>\n",
       "      <td>Nah I don't think he goes to usf, he lives aro...</td>\n",
       "      <td>nah dont think goe usf live around though</td>\n",
       "      <td>0</td>\n",
       "    </tr>\n",
       "  </tbody>\n",
       "</table>\n",
       "</div>"
      ],
      "text/plain": [
       "  Category                                            Content  \\\n",
       "0      ham  Go until jurong point, crazy.. Available only ...   \n",
       "1      ham                      Ok lar... Joking wif u oni...   \n",
       "2     spam  Free entry in 2 a wkly comp to win FA Cup fina...   \n",
       "3      ham  U dun say so early hor... U c already then say...   \n",
       "4      ham  Nah I don't think he goes to usf, he lives aro...   \n",
       "\n",
       "                                          Clean_text  label  \n",
       "0  go jurong point crazi avail bugi n great world...      0  \n",
       "1                              ok lar joke wif u oni      0  \n",
       "2  free entri 2 wkli comp win fa cup final tkt 21...      1  \n",
       "3                u dun say earli hor u c alreadi say      0  \n",
       "4          nah dont think goe usf live around though      0  "
      ]
     },
     "execution_count": 9,
     "metadata": {},
     "output_type": "execute_result"
    }
   ],
   "source": [
    "# {ham:0, spam:1}\n",
    "df['label'] = df['Category'].astype('category').cat.codes\n",
    "df.head()"
   ]
  },
  {
   "cell_type": "markdown",
   "id": "5ffc010b",
   "metadata": {
    "papermill": {
     "duration": 0.008312,
     "end_time": "2023-03-28T05:18:20.157911",
     "exception": false,
     "start_time": "2023-03-28T05:18:20.149599",
     "status": "completed"
    },
    "tags": []
   },
   "source": [
    "## Spliting data"
   ]
  },
  {
   "cell_type": "code",
   "execution_count": 10,
   "id": "7e301bf5",
   "metadata": {
    "execution": {
     "iopub.execute_input": "2023-03-28T05:18:20.176896Z",
     "iopub.status.busy": "2023-03-28T05:18:20.176330Z",
     "iopub.status.idle": "2023-03-28T05:18:20.183920Z",
     "shell.execute_reply": "2023-03-28T05:18:20.183131Z"
    },
    "papermill": {
     "duration": 0.019724,
     "end_time": "2023-03-28T05:18:20.186160",
     "exception": false,
     "start_time": "2023-03-28T05:18:20.166436",
     "status": "completed"
    },
    "tags": []
   },
   "outputs": [],
   "source": [
    "X_train,X_test,y_train,y_test=train_test_split(\n",
    "    df['Clean_text'],df['label'],test_size=0.25,random_state=SEED)"
   ]
  },
  {
   "cell_type": "markdown",
   "id": "68a74a6e",
   "metadata": {
    "papermill": {
     "duration": 0.008187,
     "end_time": "2023-03-28T05:18:20.203254",
     "exception": false,
     "start_time": "2023-03-28T05:18:20.195067",
     "status": "completed"
    },
    "tags": []
   },
   "source": [
    "# Tokenize"
   ]
  },
  {
   "cell_type": "markdown",
   "id": "61f3afd6",
   "metadata": {
    "papermill": {
     "duration": 0.00837,
     "end_time": "2023-03-28T05:18:20.220128",
     "exception": false,
     "start_time": "2023-03-28T05:18:20.211758",
     "status": "completed"
    },
    "tags": []
   },
   "source": [
    "## Define the parameters"
   ]
  },
  {
   "cell_type": "code",
   "execution_count": 11,
   "id": "7c2a4f41",
   "metadata": {
    "execution": {
     "iopub.execute_input": "2023-03-28T05:18:20.238788Z",
     "iopub.status.busy": "2023-03-28T05:18:20.238442Z",
     "iopub.status.idle": "2023-03-28T05:18:20.243238Z",
     "shell.execute_reply": "2023-03-28T05:18:20.242506Z"
    },
    "papermill": {
     "duration": 0.016367,
     "end_time": "2023-03-28T05:18:20.245131",
     "exception": false,
     "start_time": "2023-03-28T05:18:20.228764",
     "status": "completed"
    },
    "tags": []
   },
   "outputs": [],
   "source": [
    "max_len=50 # max words in every input string\n",
    "trunc_type='post' # if number of words are more than max_len then trunct from the last of the string\n",
    "padding_type='post' # if number of words are less than max_len then add\n",
    "oov_token_1='<OOV>'# out of vocabulary token\n",
    "vocab_size=500"
   ]
  },
  {
   "cell_type": "markdown",
   "id": "38deebaf",
   "metadata": {
    "papermill": {
     "duration": 0.008499,
     "end_time": "2023-03-28T05:18:20.262505",
     "exception": false,
     "start_time": "2023-03-28T05:18:20.254006",
     "status": "completed"
    },
    "tags": []
   },
   "source": [
    "## Text to numerical\n",
    "`\n",
    "Create a tokenizer and fit\n",
    "`"
   ]
  },
  {
   "cell_type": "code",
   "execution_count": 12,
   "id": "5093a13a",
   "metadata": {
    "execution": {
     "iopub.execute_input": "2023-03-28T05:18:20.281351Z",
     "iopub.status.busy": "2023-03-28T05:18:20.280994Z",
     "iopub.status.idle": "2023-03-28T05:18:20.355363Z",
     "shell.execute_reply": "2023-03-28T05:18:20.354303Z"
    },
    "papermill": {
     "duration": 0.086635,
     "end_time": "2023-03-28T05:18:20.357809",
     "exception": false,
     "start_time": "2023-03-28T05:18:20.271174",
     "status": "completed"
    },
    "tags": []
   },
   "outputs": [],
   "source": [
    "tokenizer=Tokenizer(num_words=vocab_size,char_level=False,oov_token=oov_token_1)\n",
    "tokenizer.fit_on_texts(X_train)"
   ]
  },
  {
   "cell_type": "code",
   "execution_count": 13,
   "id": "b5572f51",
   "metadata": {
    "execution": {
     "iopub.execute_input": "2023-03-28T05:18:20.376870Z",
     "iopub.status.busy": "2023-03-28T05:18:20.376511Z",
     "iopub.status.idle": "2023-03-28T05:18:20.382478Z",
     "shell.execute_reply": "2023-03-28T05:18:20.381299Z"
    },
    "papermill": {
     "duration": 0.017804,
     "end_time": "2023-03-28T05:18:20.384448",
     "exception": false,
     "start_time": "2023-03-28T05:18:20.366644",
     "status": "completed"
    },
    "tags": []
   },
   "outputs": [
    {
     "name": "stdout",
     "output_type": "stream",
     "text": [
      "Total token : 6851\n",
      "<OOV>: 1\n",
      "u: 2\n",
      "call: 3\n",
      "2: 4\n",
      "im: 5\n",
      "go: 6\n",
      "get: 7\n",
      "ur: 8\n",
      "å: 9\n",
      "come: 10\n",
      "4: 11\n"
     ]
    }
   ],
   "source": [
    "print(f\"Total token : {len(tokenizer.word_index)}\")\n",
    "for token_word in tokenizer.word_index:\n",
    "    print(f\"{token_word}: {tokenizer.word_index[token_word]}\")\n",
    "    if tokenizer.word_index[token_word] >10:\n",
    "        break"
   ]
  },
  {
   "cell_type": "markdown",
   "id": "dbbe97f4",
   "metadata": {
    "papermill": {
     "duration": 0.008095,
     "end_time": "2023-03-28T05:18:20.401138",
     "exception": false,
     "start_time": "2023-03-28T05:18:20.393043",
     "status": "completed"
    },
    "tags": []
   },
   "source": [
    "## Tokenize and padding "
   ]
  },
  {
   "cell_type": "code",
   "execution_count": 14,
   "id": "ef446a60",
   "metadata": {
    "execution": {
     "iopub.execute_input": "2023-03-28T05:18:20.419529Z",
     "iopub.status.busy": "2023-03-28T05:18:20.419165Z",
     "iopub.status.idle": "2023-03-28T05:18:20.489614Z",
     "shell.execute_reply": "2023-03-28T05:18:20.487706Z"
    },
    "papermill": {
     "duration": 0.082616,
     "end_time": "2023-03-28T05:18:20.492195",
     "exception": false,
     "start_time": "2023-03-28T05:18:20.409579",
     "status": "completed"
    },
    "tags": []
   },
   "outputs": [],
   "source": [
    "X_train = tokenizer.texts_to_sequences(X_train)\n",
    "X_train = pad_sequences(X_train,maxlen=max_len,padding=padding_type,truncating=trunc_type)"
   ]
  },
  {
   "cell_type": "code",
   "execution_count": 15,
   "id": "2e5971ee",
   "metadata": {
    "execution": {
     "iopub.execute_input": "2023-03-28T05:18:20.510812Z",
     "iopub.status.busy": "2023-03-28T05:18:20.510472Z",
     "iopub.status.idle": "2023-03-28T05:18:20.537739Z",
     "shell.execute_reply": "2023-03-28T05:18:20.536729Z"
    },
    "papermill": {
     "duration": 0.039074,
     "end_time": "2023-03-28T05:18:20.540099",
     "exception": false,
     "start_time": "2023-03-28T05:18:20.501025",
     "status": "completed"
    },
    "tags": []
   },
   "outputs": [],
   "source": [
    "X_test=tokenizer.texts_to_sequences(X_test)\n",
    "X_test=pad_sequences(X_test,maxlen=max_len,padding=padding_type,truncating=trunc_type)\n"
   ]
  },
  {
   "cell_type": "code",
   "execution_count": 16,
   "id": "e6b37103",
   "metadata": {
    "execution": {
     "iopub.execute_input": "2023-03-28T05:18:20.559569Z",
     "iopub.status.busy": "2023-03-28T05:18:20.559169Z",
     "iopub.status.idle": "2023-03-28T05:18:20.565795Z",
     "shell.execute_reply": "2023-03-28T05:18:20.564797Z"
    },
    "papermill": {
     "duration": 0.018395,
     "end_time": "2023-03-28T05:18:20.567461",
     "exception": false,
     "start_time": "2023-03-28T05:18:20.549066",
     "status": "completed"
    },
    "tags": []
   },
   "outputs": [
    {
     "data": {
      "text/plain": [
       "((4179, 50), (1393, 50))"
      ]
     },
     "execution_count": 16,
     "metadata": {},
     "output_type": "execute_result"
    }
   ],
   "source": [
    "X_train.shape, X_test.shape"
   ]
  },
  {
   "cell_type": "markdown",
   "id": "e71cafa6",
   "metadata": {
    "papermill": {
     "duration": 0.008159,
     "end_time": "2023-03-28T05:18:20.584401",
     "exception": false,
     "start_time": "2023-03-28T05:18:20.576242",
     "status": "completed"
    },
    "tags": []
   },
   "source": [
    "# Modeling"
   ]
  },
  {
   "cell_type": "code",
   "execution_count": 17,
   "id": "0455aa31",
   "metadata": {
    "execution": {
     "iopub.execute_input": "2023-03-28T05:18:20.604822Z",
     "iopub.status.busy": "2023-03-28T05:18:20.604162Z",
     "iopub.status.idle": "2023-03-28T05:18:20.610226Z",
     "shell.execute_reply": "2023-03-28T05:18:20.609543Z"
    },
    "papermill": {
     "duration": 0.01842,
     "end_time": "2023-03-28T05:18:20.612050",
     "exception": false,
     "start_time": "2023-03-28T05:18:20.593630",
     "status": "completed"
    },
    "tags": []
   },
   "outputs": [
    {
     "data": {
      "text/plain": [
       "(50,)"
      ]
     },
     "execution_count": 17,
     "metadata": {},
     "output_type": "execute_result"
    }
   ],
   "source": [
    "input_shape = X_train.shape[1:]\n",
    "input_shape"
   ]
  },
  {
   "cell_type": "code",
   "execution_count": 18,
   "id": "f99f2491",
   "metadata": {
    "execution": {
     "iopub.execute_input": "2023-03-28T05:18:20.634123Z",
     "iopub.status.busy": "2023-03-28T05:18:20.633481Z",
     "iopub.status.idle": "2023-03-28T05:18:20.803499Z",
     "shell.execute_reply": "2023-03-28T05:18:20.802223Z"
    },
    "papermill": {
     "duration": 0.183633,
     "end_time": "2023-03-28T05:18:20.806074",
     "exception": false,
     "start_time": "2023-03-28T05:18:20.622441",
     "status": "completed"
    },
    "tags": []
   },
   "outputs": [],
   "source": [
    "input = Input(shape=input_shape)\n",
    "x = Embedding(input_dim=vocab_size, output_dim=12)(input)\n",
    "x = GlobalAveragePooling1D()(x)\n",
    "x = Dense(24, activation='relu')(x)\n",
    "x = Dropout(0.2)(x)\n",
    "output = Dense(1, activation='sigmoid')(x)\n",
    "model = Model(inputs=input, outputs=output)\n",
    "model.compile(optimizer = 'adam', loss = 'binary_crossentropy', metrics=['accuracy'])"
   ]
  },
  {
   "cell_type": "code",
   "execution_count": 19,
   "id": "7647fdd0",
   "metadata": {
    "execution": {
     "iopub.execute_input": "2023-03-28T05:18:20.825870Z",
     "iopub.status.busy": "2023-03-28T05:18:20.825522Z",
     "iopub.status.idle": "2023-03-28T05:18:20.849881Z",
     "shell.execute_reply": "2023-03-28T05:18:20.848395Z"
    },
    "papermill": {
     "duration": 0.037432,
     "end_time": "2023-03-28T05:18:20.852617",
     "exception": false,
     "start_time": "2023-03-28T05:18:20.815185",
     "status": "completed"
    },
    "tags": []
   },
   "outputs": [
    {
     "name": "stdout",
     "output_type": "stream",
     "text": [
      "Model: \"model\"\n",
      "_________________________________________________________________\n",
      " Layer (type)                Output Shape              Param #   \n",
      "=================================================================\n",
      " input_1 (InputLayer)        [(None, 50)]              0         \n",
      "                                                                 \n",
      " embedding (Embedding)       (None, 50, 12)            6000      \n",
      "                                                                 \n",
      " global_average_pooling1d (G  (None, 12)               0         \n",
      " lobalAveragePooling1D)                                          \n",
      "                                                                 \n",
      " dense (Dense)               (None, 24)                312       \n",
      "                                                                 \n",
      " dropout (Dropout)           (None, 24)                0         \n",
      "                                                                 \n",
      " dense_1 (Dense)             (None, 1)                 25        \n",
      "                                                                 \n",
      "=================================================================\n",
      "Total params: 6,337\n",
      "Trainable params: 6,337\n",
      "Non-trainable params: 0\n",
      "_________________________________________________________________\n"
     ]
    }
   ],
   "source": [
    "model.summary()"
   ]
  },
  {
   "cell_type": "markdown",
   "id": "0658af8b",
   "metadata": {
    "papermill": {
     "duration": 0.009645,
     "end_time": "2023-03-28T05:18:20.872457",
     "exception": false,
     "start_time": "2023-03-28T05:18:20.862812",
     "status": "completed"
    },
    "tags": []
   },
   "source": [
    "## Plot the model"
   ]
  },
  {
   "cell_type": "code",
   "execution_count": 20,
   "id": "f1f40f7e",
   "metadata": {
    "execution": {
     "iopub.execute_input": "2023-03-28T05:18:20.894227Z",
     "iopub.status.busy": "2023-03-28T05:18:20.893899Z",
     "iopub.status.idle": "2023-03-28T05:18:21.068995Z",
     "shell.execute_reply": "2023-03-28T05:18:21.067998Z"
    },
    "papermill": {
     "duration": 0.188549,
     "end_time": "2023-03-28T05:18:21.070923",
     "exception": false,
     "start_time": "2023-03-28T05:18:20.882374",
     "status": "completed"
    },
    "tags": []
   },
   "outputs": [
    {
     "data": {
      "image/png": "[encoded data removed]",
      "text/plain": [
       "<IPython.core.display.Image object>"
      ]
     },
     "execution_count": 20,
     "metadata": {},
     "output_type": "execute_result"
    }
   ],
   "source": [
    "tf.keras.utils.plot_model(model)"
   ]
  },
  {
   "cell_type": "markdown",
   "id": "cd25b531",
   "metadata": {
    "papermill": {
     "duration": 0.010204,
     "end_time": "2023-03-28T05:18:21.092149",
     "exception": false,
     "start_time": "2023-03-28T05:18:21.081945",
     "status": "completed"
    },
    "tags": []
   },
   "source": [
    "## Fit the model"
   ]
  },
  {
   "cell_type": "code",
   "execution_count": 21,
   "id": "82816dee",
   "metadata": {
    "execution": {
     "iopub.execute_input": "2023-03-28T05:18:21.114189Z",
     "iopub.status.busy": "2023-03-28T05:18:21.113821Z",
     "iopub.status.idle": "2023-03-28T05:18:28.958999Z",
     "shell.execute_reply": "2023-03-28T05:18:28.957944Z"
    },
    "papermill": {
     "duration": 7.858754,
     "end_time": "2023-03-28T05:18:28.961266",
     "exception": false,
     "start_time": "2023-03-28T05:18:21.102512",
     "status": "completed"
    },
    "tags": []
   },
   "outputs": [
    {
     "name": "stdout",
     "output_type": "stream",
     "text": [
      "Epoch 1/50\n",
      "131/131 [==============================] - 1s 3ms/step - loss: 0.5610 - accuracy: 0.8521 - val_loss: 0.3940 - val_accuracy: 0.8629\n",
      "Epoch 2/50\n",
      "131/131 [==============================] - 0s 2ms/step - loss: 0.3463 - accuracy: 0.8670 - val_loss: 0.3225 - val_accuracy: 0.8629\n",
      "Epoch 3/50\n",
      "131/131 [==============================] - 0s 2ms/step - loss: 0.2911 - accuracy: 0.8672 - val_loss: 0.2583 - val_accuracy: 0.8650\n",
      "Epoch 4/50\n",
      "131/131 [==============================] - 0s 2ms/step - loss: 0.2185 - accuracy: 0.9045 - val_loss: 0.1890 - val_accuracy: 0.9325\n",
      "Epoch 5/50\n",
      "131/131 [==============================] - 0s 2ms/step - loss: 0.1601 - accuracy: 0.9464 - val_loss: 0.1498 - val_accuracy: 0.9483\n",
      "Epoch 6/50\n",
      "131/131 [==============================] - 0s 2ms/step - loss: 0.1263 - accuracy: 0.9596 - val_loss: 0.1239 - val_accuracy: 0.9569\n",
      "Epoch 7/50\n",
      "131/131 [==============================] - 0s 2ms/step - loss: 0.1048 - accuracy: 0.9658 - val_loss: 0.1075 - val_accuracy: 0.9620\n",
      "Epoch 8/50\n",
      "131/131 [==============================] - 0s 2ms/step - loss: 0.0871 - accuracy: 0.9708 - val_loss: 0.0930 - val_accuracy: 0.9684\n",
      "Epoch 9/50\n",
      "131/131 [==============================] - 0s 2ms/step - loss: 0.0739 - accuracy: 0.9785 - val_loss: 0.0843 - val_accuracy: 0.9734\n",
      "Epoch 10/50\n",
      "131/131 [==============================] - 0s 2ms/step - loss: 0.0644 - accuracy: 0.9823 - val_loss: 0.0793 - val_accuracy: 0.9742\n",
      "Epoch 11/50\n",
      "131/131 [==============================] - 0s 2ms/step - loss: 0.0586 - accuracy: 0.9825 - val_loss: 0.0757 - val_accuracy: 0.9749\n",
      "Epoch 12/50\n",
      "131/131 [==============================] - 0s 2ms/step - loss: 0.0520 - accuracy: 0.9852 - val_loss: 0.0734 - val_accuracy: 0.9770\n",
      "Epoch 13/50\n",
      "131/131 [==============================] - 0s 2ms/step - loss: 0.0498 - accuracy: 0.9849 - val_loss: 0.0736 - val_accuracy: 0.9742\n",
      "Epoch 14/50\n",
      "131/131 [==============================] - 0s 2ms/step - loss: 0.0476 - accuracy: 0.9844 - val_loss: 0.0718 - val_accuracy: 0.9770\n",
      "Epoch 15/50\n",
      "131/131 [==============================] - 0s 2ms/step - loss: 0.0445 - accuracy: 0.9876 - val_loss: 0.0700 - val_accuracy: 0.9792\n",
      "Epoch 16/50\n",
      "131/131 [==============================] - 0s 2ms/step - loss: 0.0415 - accuracy: 0.9866 - val_loss: 0.0702 - val_accuracy: 0.9770\n",
      "Epoch 17/50\n",
      "131/131 [==============================] - 0s 2ms/step - loss: 0.0395 - accuracy: 0.9876 - val_loss: 0.0689 - val_accuracy: 0.9785\n",
      "Epoch 18/50\n",
      "131/131 [==============================] - 0s 2ms/step - loss: 0.0398 - accuracy: 0.9888 - val_loss: 0.0683 - val_accuracy: 0.9799\n",
      "Epoch 19/50\n",
      "131/131 [==============================] - 0s 2ms/step - loss: 0.0355 - accuracy: 0.9904 - val_loss: 0.0683 - val_accuracy: 0.9799\n",
      "Epoch 20/50\n",
      "131/131 [==============================] - 0s 2ms/step - loss: 0.0362 - accuracy: 0.9890 - val_loss: 0.0684 - val_accuracy: 0.9821\n",
      "Epoch 21/50\n",
      "131/131 [==============================] - 0s 2ms/step - loss: 0.0343 - accuracy: 0.9904 - val_loss: 0.0706 - val_accuracy: 0.9806\n",
      "Epoch 22/50\n",
      "131/131 [==============================] - 0s 2ms/step - loss: 0.0337 - accuracy: 0.9897 - val_loss: 0.0695 - val_accuracy: 0.9813\n",
      "Epoch 23/50\n",
      "131/131 [==============================] - 0s 2ms/step - loss: 0.0305 - accuracy: 0.9907 - val_loss: 0.0696 - val_accuracy: 0.9792\n"
     ]
    }
   ],
   "source": [
    "num_epochs=50\n",
    "# If val_loss increases five times it will stop model fitting\n",
    "early_stop=EarlyStopping(monitor='val_loss',patience=5)\n",
    "history=model.fit(\n",
    "    X_train,\n",
    "    y_train,\n",
    "    epochs=num_epochs,\n",
    "    validation_data=(X_test,y_test),\n",
    "    callbacks=[early_stop]\n",
    ")"
   ]
  },
  {
   "cell_type": "markdown",
   "id": "c19ca5b7",
   "metadata": {
    "papermill": {
     "duration": 0.018397,
     "end_time": "2023-03-28T05:18:28.998647",
     "exception": false,
     "start_time": "2023-03-28T05:18:28.980250",
     "status": "completed"
    },
    "tags": []
   },
   "source": [
    "## Evaluate"
   ]
  },
  {
   "cell_type": "code",
   "execution_count": 22,
   "id": "020e7b3e",
   "metadata": {
    "execution": {
     "iopub.execute_input": "2023-03-28T05:18:29.037809Z",
     "iopub.status.busy": "2023-03-28T05:18:29.037074Z",
     "iopub.status.idle": "2023-03-28T05:18:29.151017Z",
     "shell.execute_reply": "2023-03-28T05:18:29.149708Z"
    },
    "papermill": {
     "duration": 0.135886,
     "end_time": "2023-03-28T05:18:29.153180",
     "exception": false,
     "start_time": "2023-03-28T05:18:29.017294",
     "status": "completed"
    },
    "tags": []
   },
   "outputs": [
    {
     "name": "stdout",
     "output_type": "stream",
     "text": [
      "44/44 [==============================] - 0s 1ms/step - loss: 0.0696 - accuracy: 0.9792\n"
     ]
    },
    {
     "data": {
      "text/plain": [
       "[0.06960375607013702, 0.9791816473007202]"
      ]
     },
     "execution_count": 22,
     "metadata": {},
     "output_type": "execute_result"
    }
   ],
   "source": [
    "model.evaluate(X_test, y_test)"
   ]
  },
  {
   "cell_type": "markdown",
   "id": "c18b102d",
   "metadata": {
    "papermill": {
     "duration": 0.018624,
     "end_time": "2023-03-28T05:18:29.191158",
     "exception": false,
     "start_time": "2023-03-28T05:18:29.172534",
     "status": "completed"
    },
    "tags": []
   },
   "source": [
    "## plot_loss_curves"
   ]
  },
  {
   "cell_type": "code",
   "execution_count": 23,
   "id": "f2d7d130",
   "metadata": {
    "execution": {
     "iopub.execute_input": "2023-03-28T05:18:29.231115Z",
     "iopub.status.busy": "2023-03-28T05:18:29.230760Z",
     "iopub.status.idle": "2023-03-28T05:18:29.238540Z",
     "shell.execute_reply": "2023-03-28T05:18:29.237464Z"
    },
    "papermill": {
     "duration": 0.030552,
     "end_time": "2023-03-28T05:18:29.240594",
     "exception": false,
     "start_time": "2023-03-28T05:18:29.210042",
     "status": "completed"
    },
    "tags": []
   },
   "outputs": [],
   "source": [
    "def plot_loss_curves(history):\n",
    "  loss = history.history['loss']\n",
    "  val_loss = history.history['val_loss']\n",
    "\n",
    "  accuracy = history.history['accuracy']\n",
    "  val_accuracy = history.history['val_accuracy']\n",
    "\n",
    "  epochs = range(len(history.history['loss']))\n",
    "\n",
    "  # Plot loss\n",
    "  plt.plot(epochs, loss, label='training_loss')\n",
    "  plt.plot(epochs, val_loss, label='val_loss')\n",
    "  plt.title('Loss')\n",
    "  plt.xlabel('Epochs')\n",
    "  plt.legend()\n",
    "\n",
    "  # Plot accuracy\n",
    "  plt.figure()\n",
    "  plt.plot(epochs, accuracy, label='training_accuracy')\n",
    "  plt.plot(epochs, val_accuracy, label='val_accuracy')\n",
    "  plt.title('Accuracy')\n",
    "  plt.xlabel('Epochs')\n",
    "  plt.legend();"
   ]
  },
  {
   "cell_type": "code",
   "execution_count": 24,
   "id": "716a2fa7",
   "metadata": {
    "execution": {
     "iopub.execute_input": "2023-03-28T05:18:29.281889Z",
     "iopub.status.busy": "2023-03-28T05:18:29.281555Z",
     "iopub.status.idle": "2023-03-28T05:18:29.603297Z",
     "shell.execute_reply": "2023-03-28T05:18:29.602030Z"
    },
    "papermill": {
     "duration": 0.345069,
     "end_time": "2023-03-28T05:18:29.605673",
     "exception": false,
     "start_time": "2023-03-28T05:18:29.260604",
     "status": "completed"
    },
    "tags": []
   },
   "outputs": [
    {
     "data": {
      "image/png": "[encoded data removed]",
      "text/plain": [
       "<Figure size 640x480 with 1 Axes>"
      ]
     },
     "metadata": {},
     "output_type": "display_data"
    },
    {
     "data": {
      "image/png": "[encoded data removed]",
      "text/plain": [
       "<Figure size 640x480 with 1 Axes>"
      ]
     },
     "metadata": {},
     "output_type": "display_data"
    }
   ],
   "source": [
    "plot_loss_curves(history)"
   ]
  },
  {
   "cell_type": "code",
   "execution_count": null,
   "id": "1fdb3578",
   "metadata": {
    "papermill": {
     "duration": 0.019452,
     "end_time": "2023-03-28T05:18:29.645266",
     "exception": false,
     "start_time": "2023-03-28T05:18:29.625814",
     "status": "completed"
    },
    "tags": []
   },
   "outputs": [],
   "source": []
  }
 ],
 "metadata": {
  "kernelspec": {
   "display_name": "Python 3",
   "language": "python",
   "name": "python3"
  },
  "language_info": {
   "codemirror_mode": {
    "name": "ipython",
    "version": 3
   },
   "file_extension": ".py",
   "mimetype": "text/x-python",
   "name": "python",
   "nbconvert_exporter": "python",
   "pygments_lexer": "ipython3",
   "version": "3.7.12"
  },
  "papermill": {
   "default_parameters": {},
   "duration": 31.335362,
   "end_time": "2023-03-28T05:18:32.720946",
   "environment_variables": {},
   "exception": null,
   "input_path": "__notebook__.ipynb",
   "output_path": "__notebook__.ipynb",
   "parameters": {},
   "start_time": "2023-03-28T05:18:01.385584",
   "version": "2.4.0"
  }
 },
 "nbformat": 4,
 "nbformat_minor": 5
}
